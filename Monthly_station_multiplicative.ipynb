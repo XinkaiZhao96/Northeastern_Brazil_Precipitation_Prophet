{
 "cells": [
  {
   "cell_type": "code",
   "execution_count": 1,
   "metadata": {},
   "outputs": [
    {
     "data": {
      "text/plain": [
       "'D:\\\\miniconda3\\\\lib\\\\site-packages\\\\pyspark'"
      ]
     },
     "execution_count": 1,
     "metadata": {},
     "output_type": "execute_result"
    }
   ],
   "source": [
    "import findspark\n",
    "findspark.init()\n",
    "findspark.find()"
   ]
  },
  {
   "cell_type": "code",
   "execution_count": 2,
   "metadata": {
    "id": "3-JBqI36Ydxs"
   },
   "outputs": [],
   "source": [
    "import os\n",
    "\n",
    "os.environ[\"JAVA_HOME\"] = \"C:Program Files\\java\\jdk1.8.0_331\"\n",
    "\n",
    "os.environ[\"HADOOP_HOME\"] = \"C:spark-2.3.2-bin-hadoop2.7\""
   ]
  },
  {
   "cell_type": "code",
   "execution_count": 3,
   "metadata": {},
   "outputs": [],
   "source": [
    "import pyspark\n",
    "from pyspark.sql import SparkSession\n",
    "\n",
    "spark = SparkSession.builder \\\n",
    ".appName('app_name') \\\n",
    ".master('local[*]') \\\n",
    ".config('spark.sql.execution.arrow.pyspark.enabled', True) \\\n",
    ".config('spark.sql.session.timeZone', 'UTC') \\\n",
    ".config('spark.driver.memory','24G') \\\n",
    ".config('spark.ui.showConsoleProgress', True) \\\n",
    ".config('spark.sql.repl.eagerEval.enabled', True) \\\n",
    ".getOrCreate()"
   ]
  },
  {
   "cell_type": "code",
   "execution_count": 4,
   "metadata": {
    "id": "Hy2MKDSXU8y0"
   },
   "outputs": [
    {
     "name": "stderr",
     "output_type": "stream",
     "text": [
      "Importing plotly failed. Interactive plots will not work.\n"
     ]
    }
   ],
   "source": [
    "from pyspark.sql.functions import year, month, dayofmonth\n",
    "from pyspark.sql.functions import to_date, to_timestamp, date_format\n",
    "from pyspark.sql import functions as sf\n",
    "from functools import reduce\n",
    "import pyspark.sql.functions as F\n",
    "from pyspark.sql.functions import isnull, when, count, col, concat_ws, to_timestamp, lit, pandas_udf, PandasUDFType, current_date\n",
    "from pyspark.sql.types import *\n",
    "import folium\n",
    "from prophet import Prophet\n",
    "import matplotlib.pyplot as plt\n",
    "from sklearn.metrics import mean_squared_error, mean_absolute_error\n",
    "from math import sqrt"
   ]
  },
  {
   "cell_type": "code",
   "execution_count": 5,
   "metadata": {
    "id": "8rCqFrioK5Bl"
   },
   "outputs": [],
   "source": [
    "import numpy as np\n",
    "import pandas as pd\n",
    "import matplotlib.pyplot as plt\n",
    "import seaborn as sns"
   ]
  },
  {
   "cell_type": "code",
   "execution_count": 6,
   "metadata": {
    "id": "Q-RAqhtVK58Z"
   },
   "outputs": [],
   "source": [
    "df = spark.read.csv('northeast.csv', inferSchema=True, header=True, nanValue=-9999.0, nullValue=-9999)"
   ]
  },
  {
   "cell_type": "code",
   "execution_count": 7,
   "metadata": {
    "id": "2KBqVzM5K8Pg"
   },
   "outputs": [],
   "source": [
    "df = df.drop(\"index\", \"station_code\")"
   ]
  },
  {
   "cell_type": "code",
   "execution_count": 8,
   "metadata": {
    "id": "ViPiyHc6K8MP"
   },
   "outputs": [],
   "source": [
    "oldColumns = df.columns\n",
    "newColumns = ['Date', 'Time', 'PCP', 'AP', 'MaxAP', 'MinAP', 'SR', \n",
    "              'T', 'DWPT', 'MaxT', 'MinT', 'MaxDWPT', 'MinDWPT', \n",
    "              'MaxTRH', 'MinTRH', 'RH', 'WD', 'WG', 'WS', \n",
    "              'Region', 'State', 'Station', 'Latitude', 'Longitude', 'Altitude']\n",
    "df = reduce(lambda data, idx: data.withColumnRenamed(oldColumns[idx], newColumns[idx]), range(len(oldColumns)), df)"
   ]
  },
  {
   "cell_type": "code",
   "execution_count": 9,
   "metadata": {},
   "outputs": [],
   "source": [
    "df = df.replace(float(\"NaN\"), None)"
   ]
  },
  {
   "cell_type": "code",
   "execution_count": 10,
   "metadata": {
    "id": "To5KXtDJK8I3"
   },
   "outputs": [],
   "source": [
    "df = df.withColumn(\"YM\", date_format('Date', 'yyyy-MM'))"
   ]
  },
  {
   "cell_type": "code",
   "execution_count": 11,
   "metadata": {
    "id": "FzUWN60iLAx9"
   },
   "outputs": [],
   "source": [
    "df = df.select('PCP', 'Station', 'YM')"
   ]
  },
  {
   "cell_type": "code",
   "execution_count": 12,
   "metadata": {},
   "outputs": [
    {
     "name": "stdout",
     "output_type": "stream",
     "text": [
      "+----+--------+-------+\n",
      "| PCP| Station|     YM|\n",
      "+----+--------+-------+\n",
      "|null|SALVADOR|2000-05|\n",
      "|null|SALVADOR|2000-05|\n",
      "|null|SALVADOR|2000-05|\n",
      "|null|SALVADOR|2000-05|\n",
      "|null|SALVADOR|2000-05|\n",
      "|null|SALVADOR|2000-05|\n",
      "|null|SALVADOR|2000-05|\n",
      "|null|SALVADOR|2000-05|\n",
      "|null|SALVADOR|2000-05|\n",
      "|null|SALVADOR|2000-05|\n",
      "|null|SALVADOR|2000-05|\n",
      "|null|SALVADOR|2000-05|\n",
      "|null|SALVADOR|2000-05|\n",
      "|null|SALVADOR|2000-05|\n",
      "|null|SALVADOR|2000-05|\n",
      "|null|SALVADOR|2000-05|\n",
      "|null|SALVADOR|2000-05|\n",
      "|null|SALVADOR|2000-05|\n",
      "|null|SALVADOR|2000-05|\n",
      "|null|SALVADOR|2000-05|\n",
      "+----+--------+-------+\n",
      "only showing top 20 rows\n",
      "\n"
     ]
    }
   ],
   "source": [
    "df.show()"
   ]
  },
  {
   "cell_type": "code",
   "execution_count": 13,
   "metadata": {},
   "outputs": [
    {
     "name": "stdout",
     "output_type": "stream",
     "text": [
      "root\n",
      " |-- PCP: double (nullable = true)\n",
      " |-- Station: string (nullable = true)\n",
      " |-- YM: string (nullable = true)\n",
      "\n"
     ]
    }
   ],
   "source": [
    "df.printSchema()"
   ]
  },
  {
   "cell_type": "code",
   "execution_count": 14,
   "metadata": {
    "id": "9aJ87F8vLLSZ"
   },
   "outputs": [],
   "source": [
    "df = df.dropna().groupBy('YM', 'Station').sum('PCP').sort('YM')\n",
    "df = df.withColumnRenamed(\"sum(PCP)\",\"PCP\")\n",
    "df = df.withColumn(\"YM\", F.trunc(\"YM\", \"month\"))"
   ]
  },
  {
   "cell_type": "code",
   "execution_count": 15,
   "metadata": {},
   "outputs": [
    {
     "name": "stdout",
     "output_type": "stream",
     "text": [
      "+----------+---------+------------------+\n",
      "|        YM|  Station|               PCP|\n",
      "+----------+---------+------------------+\n",
      "|2000-10-01| SALVADOR|               5.0|\n",
      "|2000-11-01| SALVADOR| 76.40000000000002|\n",
      "|2000-12-01| SALVADOR| 90.80000000000001|\n",
      "|2001-01-01| SALVADOR| 98.80000000000001|\n",
      "|2001-02-01| SALVADOR|30.400000000000002|\n",
      "|2001-03-01| SALVADOR| 263.5999999999999|\n",
      "|2001-04-01| SALVADOR|109.80000000000005|\n",
      "|2001-05-01| SALVADOR|207.99999999999994|\n",
      "|2001-06-01| SALVADOR|             212.0|\n",
      "|2001-07-01| SALVADOR|222.39999999999995|\n",
      "|2001-08-01| SALVADOR|152.00000000000003|\n",
      "|2001-09-01| SALVADOR|188.40000000000003|\n",
      "|2001-10-01| SALVADOR|210.59999999999982|\n",
      "|2001-11-01| SALVADOR|              45.6|\n",
      "|2001-12-01| SALVADOR|114.40000000000002|\n",
      "|2001-12-01|BARREIRAS|              23.2|\n",
      "|2002-01-01| SALVADOR|219.39999999999992|\n",
      "|2002-01-01|BARREIRAS|               0.0|\n",
      "|2002-02-01| SALVADOR|104.80000000000003|\n",
      "|2002-02-01|BARREIRAS|               0.0|\n",
      "+----------+---------+------------------+\n",
      "only showing top 20 rows\n",
      "\n"
     ]
    }
   ],
   "source": [
    "df.show()"
   ]
  },
  {
   "cell_type": "code",
   "execution_count": 16,
   "metadata": {
    "id": "nofCt93gLLNJ"
   },
   "outputs": [],
   "source": [
    "df.createOrReplaceTempView(\"weather\")"
   ]
  },
  {
   "cell_type": "code",
   "execution_count": 17,
   "metadata": {},
   "outputs": [],
   "source": [
    "sq = 'SELECT Station, YM as ds, sum(PCP) as y FROM weather GROUP BY Station, ds ORDER BY Station, ds'\n",
    "station_weather = (spark.sql(sq).repartition(spark.sparkContext.defaultParallelism, ['Station'])).cache()"
   ]
  },
  {
   "cell_type": "code",
   "execution_count": 18,
   "metadata": {},
   "outputs": [
    {
     "data": {
      "text/html": [
       "<table border='1'>\n",
       "<tr><th>Station</th><th>ds</th><th>y</th></tr>\n",
       "<tr><td>CAMARATUBA</td><td>2008-05-01</td><td>142.00000000000003</td></tr>\n",
       "<tr><td>CAMARATUBA</td><td>2008-06-01</td><td>190.59999999999974</td></tr>\n",
       "<tr><td>CAMARATUBA</td><td>2008-07-01</td><td>192.1999999999998</td></tr>\n",
       "<tr><td>CAMARATUBA</td><td>2008-08-01</td><td>238.5999999999997</td></tr>\n",
       "<tr><td>CAMARATUBA</td><td>2008-09-01</td><td>72.60000000000007</td></tr>\n",
       "<tr><td>CAMARATUBA</td><td>2008-10-01</td><td>44.400000000000006</td></tr>\n",
       "<tr><td>CAMARATUBA</td><td>2008-11-01</td><td>13.799999999999997</td></tr>\n",
       "<tr><td>CAMARATUBA</td><td>2008-12-01</td><td>17.599999999999994</td></tr>\n",
       "<tr><td>CAMARATUBA</td><td>2009-01-01</td><td>148.8</td></tr>\n",
       "<tr><td>CAMARATUBA</td><td>2009-02-01</td><td>310.0</td></tr>\n",
       "<tr><td>CAMARATUBA</td><td>2009-03-01</td><td>185.79999999999995</td></tr>\n",
       "<tr><td>CAMARATUBA</td><td>2009-04-01</td><td>251.79999999999984</td></tr>\n",
       "<tr><td>CAMARATUBA</td><td>2009-05-01</td><td>344.20000000000016</td></tr>\n",
       "<tr><td>CAMARATUBA</td><td>2009-06-01</td><td>259.3999999999999</td></tr>\n",
       "<tr><td>CAMARATUBA</td><td>2009-07-01</td><td>294.7999999999998</td></tr>\n",
       "<tr><td>CAMARATUBA</td><td>2009-08-01</td><td>201.20000000000005</td></tr>\n",
       "<tr><td>CAMARATUBA</td><td>2009-09-01</td><td>75.80000000000005</td></tr>\n",
       "<tr><td>CAMARATUBA</td><td>2009-10-01</td><td>9.2</td></tr>\n",
       "<tr><td>CAMARATUBA</td><td>2009-11-01</td><td>15.399999999999999</td></tr>\n",
       "<tr><td>CAMARATUBA</td><td>2009-12-01</td><td>20.59999999999999</td></tr>\n",
       "</table>\n",
       "only showing top 20 rows\n"
      ],
      "text/plain": [
       "+----------+----------+------------------+\n",
       "|   Station|        ds|                 y|\n",
       "+----------+----------+------------------+\n",
       "|CAMARATUBA|2008-05-01|142.00000000000003|\n",
       "|CAMARATUBA|2008-06-01|190.59999999999974|\n",
       "|CAMARATUBA|2008-07-01| 192.1999999999998|\n",
       "|CAMARATUBA|2008-08-01| 238.5999999999997|\n",
       "|CAMARATUBA|2008-09-01| 72.60000000000007|\n",
       "|CAMARATUBA|2008-10-01|44.400000000000006|\n",
       "|CAMARATUBA|2008-11-01|13.799999999999997|\n",
       "|CAMARATUBA|2008-12-01|17.599999999999994|\n",
       "|CAMARATUBA|2009-01-01|             148.8|\n",
       "|CAMARATUBA|2009-02-01|             310.0|\n",
       "|CAMARATUBA|2009-03-01|185.79999999999995|\n",
       "|CAMARATUBA|2009-04-01|251.79999999999984|\n",
       "|CAMARATUBA|2009-05-01|344.20000000000016|\n",
       "|CAMARATUBA|2009-06-01| 259.3999999999999|\n",
       "|CAMARATUBA|2009-07-01| 294.7999999999998|\n",
       "|CAMARATUBA|2009-08-01|201.20000000000005|\n",
       "|CAMARATUBA|2009-09-01| 75.80000000000005|\n",
       "|CAMARATUBA|2009-10-01|               9.2|\n",
       "|CAMARATUBA|2009-11-01|15.399999999999999|\n",
       "|CAMARATUBA|2009-12-01| 20.59999999999999|\n",
       "+----------+----------+------------------+\n",
       "only showing top 20 rows"
      ]
     },
     "execution_count": 18,
     "metadata": {},
     "output_type": "execute_result"
    }
   ],
   "source": [
    "station_weather"
   ]
  },
  {
   "cell_type": "code",
   "execution_count": 19,
   "metadata": {},
   "outputs": [],
   "source": [
    "result_schema = StructType([\n",
    "    StructField('ds',DateType()),\n",
    "    StructField('Station',StringType()),\n",
    "    StructField('y',DoubleType()),\n",
    "    StructField('yhat',DoubleType())\n",
    "])"
   ]
  },
  {
   "cell_type": "code",
   "execution_count": 20,
   "metadata": {},
   "outputs": [],
   "source": [
    "@pandas_udf(result_schema, PandasUDFType.GROUPED_MAP)\n",
    "def forecast_climate(history):\n",
    "\n",
    "    model = Prophet(interval_width=0.95,\n",
    "        growth='linear',\n",
    "        daily_seasonality=False,\n",
    "        weekly_seasonality=False,\n",
    "        yearly_seasonality=True,\n",
    "        seasonality_mode='multiplicative').add_seasonality(name='monthly', period=30.5, fourier_order=5)\n",
    "\n",
    "    model.fit(history)\n",
    "\n",
    "    future = model.make_future_dataframe(\n",
    "        periods=12, \n",
    "        freq='M', \n",
    "        include_history=True\n",
    "    )\n",
    "\n",
    "    forecast = model.predict(future) \n",
    "\n",
    "    f_pd = forecast[['ds', 'yhat']].set_index('ds')\n",
    "\n",
    "    st_pd = history[['ds', 'Station', 'y']].set_index('ds')\n",
    "\n",
    "    results_pd = f_pd.join(st_pd, how='left')\n",
    "    results_pd.reset_index(level=0, inplace=True)\n",
    "\n",
    "    results_pd['Station'] = history['Station'].iloc[0]\n",
    "\n",
    "    return results_pd[['ds', 'Station','y', 'yhat']]"
   ]
  },
  {
   "cell_type": "code",
   "execution_count": 21,
   "metadata": {},
   "outputs": [
    {
     "name": "stderr",
     "output_type": "stream",
     "text": [
      "D:\\miniconda3\\lib\\site-packages\\pyspark\\sql\\pandas\\group_ops.py:81: UserWarning: It is preferred to use 'applyInPandas' over this API. This API will be deprecated in the future releases. See SPARK-28264 for more details.\n",
      "  warnings.warn(\n"
     ]
    }
   ],
   "source": [
    "forcast_results = (\n",
    "    station_weather\n",
    "    .groupBy('Station')\n",
    "    .apply(forecast_climate)\n",
    ")"
   ]
  },
  {
   "cell_type": "code",
   "execution_count": 22,
   "metadata": {},
   "outputs": [
    {
     "name": "stdout",
     "output_type": "stream",
     "text": [
      "+----------+----------+------------------+------------------+\n",
      "|        ds|   Station|                 y|              yhat|\n",
      "+----------+----------+------------------+------------------+\n",
      "|2008-05-01|CAMARATUBA|142.00000000000003| 219.1663862345166|\n",
      "|2008-06-01|CAMARATUBA|190.59999999999974|275.68770613451755|\n",
      "|2008-07-01|CAMARATUBA| 192.1999999999998|253.72627531697023|\n",
      "|2008-08-01|CAMARATUBA| 238.5999999999997| 132.6145533611586|\n",
      "|2008-09-01|CAMARATUBA| 72.60000000000007|109.31717522554223|\n",
      "|2008-10-01|CAMARATUBA|44.400000000000006| 25.22506098212093|\n",
      "|2008-11-01|CAMARATUBA|13.799999999999997| 26.34190540274985|\n",
      "|2008-12-01|CAMARATUBA|17.599999999999994| 60.65491534237754|\n",
      "|2009-01-01|CAMARATUBA|             148.8|  165.334991095759|\n",
      "|2009-02-01|CAMARATUBA|             310.0|181.01106796906262|\n",
      "|2009-03-01|CAMARATUBA|185.79999999999995|128.45551843216242|\n",
      "|2009-04-01|CAMARATUBA|251.79999999999984|156.01646935761158|\n",
      "|2009-05-01|CAMARATUBA|344.20000000000016|195.87291693016536|\n",
      "|2009-06-01|CAMARATUBA| 259.3999999999999| 249.2211054116526|\n",
      "|2009-07-01|CAMARATUBA| 294.7999999999998|227.28868196659624|\n",
      "|2009-08-01|CAMARATUBA|201.20000000000005|114.11589042751103|\n",
      "|2009-09-01|CAMARATUBA| 75.80000000000005| 93.94886469782614|\n",
      "|2009-10-01|CAMARATUBA|               9.2|14.199594085472691|\n",
      "|2009-11-01|CAMARATUBA|15.399999999999999|17.208359320410676|\n",
      "|2009-12-01|CAMARATUBA| 20.59999999999999|48.090946462573946|\n",
      "+----------+----------+------------------+------------------+\n",
      "only showing top 20 rows\n",
      "\n"
     ]
    }
   ],
   "source": [
    "forcast_results.show()"
   ]
  },
  {
   "cell_type": "code",
   "execution_count": 23,
   "metadata": {},
   "outputs": [],
   "source": [
    "import pandas as pd"
   ]
  },
  {
   "cell_type": "code",
   "execution_count": 24,
   "metadata": {},
   "outputs": [],
   "source": [
    "weather_sub = forcast_results.tail(120)\n",
    "weather_sub = pd.DataFrame(weather_sub, columns=['ds', 'Station', 'y', 'yhat'])\n",
    "weather_sub = weather_sub.set_index('ds')"
   ]
  },
  {
   "cell_type": "code",
   "execution_count": 25,
   "metadata": {},
   "outputs": [
    {
     "data": {
      "text/plain": [
       "count    120.000000\n",
       "mean      58.851751\n",
       "std       58.687560\n",
       "min       -7.628644\n",
       "25%       17.015534\n",
       "50%       43.206830\n",
       "75%       97.542370\n",
       "max      282.020281\n",
       "Name: yhat, dtype: float64"
      ]
     },
     "execution_count": 25,
     "metadata": {},
     "output_type": "execute_result"
    }
   ],
   "source": [
    "weather_sub['yhat'].describe()"
   ]
  },
  {
   "cell_type": "code",
   "execution_count": 26,
   "metadata": {},
   "outputs": [
    {
     "data": {
      "text/plain": [
       "<AxesSubplot:xlabel='ds'>"
      ]
     },
     "execution_count": 26,
     "metadata": {},
     "output_type": "execute_result"
    },
    {
     "data": {
      "image/png": "[encoded data removed]",
      "text/plain": [
       "<Figure size 432x288 with 1 Axes>"
      ]
     },
     "metadata": {
      "needs_background": "light"
     },
     "output_type": "display_data"
    }
   ],
   "source": [
    "weather_sub[['y','yhat']].plot()"
   ]
  },
  {
   "cell_type": "code",
   "execution_count": 27,
   "metadata": {},
   "outputs": [],
   "source": [
    "forcast_results.createOrReplaceTempView('new_forecasts')"
   ]
  },
  {
   "cell_type": "code",
   "execution_count": 28,
   "metadata": {},
   "outputs": [
    {
     "name": "stderr",
     "output_type": "stream",
     "text": [
      "D:\\miniconda3\\lib\\site-packages\\pyspark\\sql\\pandas\\group_ops.py:81: UserWarning: It is preferred to use 'applyInPandas' over this API. This API will be deprecated in the future releases. See SPARK-28264 for more details.\n",
      "  warnings.warn(\n"
     ]
    }
   ],
   "source": [
    "import pandas as pd\n",
    "\n",
    "# schema of expected result set\n",
    "eval_schema = StructType([\n",
    "    StructField('Station', StringType()),\n",
    "    StructField('mae', FloatType()),\n",
    "    StructField('mse', FloatType()),\n",
    "    StructField('rmse', FloatType())\n",
    "])\n",
    "\n",
    "# define udf to calculate metrics\n",
    "@pandas_udf(eval_schema, PandasUDFType.GROUPED_MAP)\n",
    "def evaluate_forecast(data):\n",
    "    data = data.dropna()\n",
    "  \n",
    "    # get station in incoming data set\n",
    "    station = data['Station'].iloc[0]\n",
    "\n",
    "    # calulate evaluation metrics\n",
    "    mae = mean_absolute_error(data['y'], data['yhat'])\n",
    "    mse = mean_squared_error(data['y'], data['yhat'])\n",
    "    rmse = sqrt(mse)\n",
    "\n",
    "    # assemble result set\n",
    "    results = {'Station':[station], 'mae':[mae], 'mse':[mse], 'rmse':[rmse]}\n",
    "    return pd.DataFrame.from_dict( results )\n",
    "\n",
    "# calculate metrics\n",
    "eval_results = (\n",
    "  spark\n",
    "    .table('new_forecasts')\n",
    "    .select('Station', 'y', 'yhat')\n",
    "    .groupBy('Station')\n",
    "    .apply(evaluate_forecast)\n",
    ")\n"
   ]
  },
  {
   "cell_type": "code",
   "execution_count": 29,
   "metadata": {},
   "outputs": [],
   "source": [
    "eval_results.createOrReplaceTempView('new_forecast_evals')"
   ]
  },
  {
   "cell_type": "code",
   "execution_count": 30,
   "metadata": {},
   "outputs": [
    {
     "name": "stdout",
     "output_type": "stream",
     "text": [
      "+----------------+-----------------+------------------+\n",
      "|             mae|              mse|              rmse|\n",
      "+----------------+-----------------+------------------+\n",
      "|5394.23396110872|487809.4639930725|7891.5469059993075|\n",
      "+----------------+-----------------+------------------+\n",
      "\n"
     ]
    }
   ],
   "source": [
    "sq = 'SELECT SUM(mae) as mae, SUM(mse) as mse, SUM(rmse) as rmse FROM new_forecast_evals'\n",
    "spark.sql(sq).show()"
   ]
  },
  {
   "cell_type": "code",
   "execution_count": 31,
   "metadata": {},
   "outputs": [],
   "source": [
    "eval_df = eval_results.toPandas()"
   ]
  },
  {
   "cell_type": "code",
   "execution_count": 32,
   "metadata": {},
   "outputs": [],
   "source": [
    "eval_df.to_csv('monthly_station_multiplicative_eval.csv')"
   ]
  },
  {
   "cell_type": "code",
   "execution_count": null,
   "metadata": {},
   "outputs": [],
   "source": []
  }
 ],
 "metadata": {
  "colab": {
   "collapsed_sections": [],
   "name": "Agg",
   "provenance": []
  },
  "kernelspec": {
   "display_name": "Python 3",
   "language": "python",
   "name": "python3"
  },
  "language_info": {
   "codemirror_mode": {
    "name": "ipython",
    "version": 3
   },
   "file_extension": ".py",
   "mimetype": "text/x-python",
   "name": "python",
   "nbconvert_exporter": "python",
   "pygments_lexer": "ipython3",
   "version": "3.9.7"
  }
 },
 "nbformat": 4,
 "nbformat_minor": 1
}
